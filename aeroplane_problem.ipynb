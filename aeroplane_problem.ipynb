{
 "cells": [
  {
   "cell_type": "code",
   "execution_count": 20,
   "id": "5417d922-60b0-40f8-8393-005ce9b8f734",
   "metadata": {},
   "outputs": [],
   "source": [
    "import numpy as np\n",
    "import random"
   ]
  },
  {
   "cell_type": "code",
   "execution_count": 186,
   "id": "200ffc64-1a5e-4117-a7b6-a3018ab4a169",
   "metadata": {},
   "outputs": [],
   "source": [
    "def ret_the_num(n):\n",
    "    occup_seats = []\n",
    "    x = random.choice(list(range(1, 101)))\n",
    "    occup_seats.append(x)\n",
    "    for i in range(2, 101):\n",
    "        if i not in occup_seats:\n",
    "            occup_seats.append(i)\n",
    "        else:\n",
    "            i_seats = random.choice([y for y in range(1, 101) if y not in occup_seats])\n",
    "            occup_seats.append(i_seats)\n",
    "            \n",
    "    return occup_seats[n-1]"
   ]
  },
  {
   "cell_type": "code",
   "execution_count": 187,
   "id": "a6a1ff8c-eca0-4ffe-9bb8-5b44f6052b3c",
   "metadata": {},
   "outputs": [
    {
     "name": "stdout",
     "output_type": "stream",
     "text": [
      "1\n"
     ]
    }
   ],
   "source": [
    "print(ret_the_num(100))"
   ]
  },
  {
   "cell_type": "code",
   "execution_count": 188,
   "id": "2bfe8911-2ba9-4155-9fe9-87dee95ab291",
   "metadata": {},
   "outputs": [],
   "source": [
    "count = 0\n",
    "N = 10000\n",
    "for _ in range(N):\n",
    "    i = ret_the_num(100)\n",
    "    if i == 100:\n",
    "        count += 1"
   ]
  },
  {
   "cell_type": "code",
   "execution_count": 189,
   "id": "afaad2c8-99f8-481c-bc11-a19344612812",
   "metadata": {},
   "outputs": [
    {
     "name": "stdout",
     "output_type": "stream",
     "text": [
      "0.498\n"
     ]
    }
   ],
   "source": [
    "prob = count/N\n",
    "print(prob)"
   ]
  },
  {
   "cell_type": "code",
   "execution_count": null,
   "id": "a772ebcd-b4fa-4bd3-9efc-5c546a6df55c",
   "metadata": {},
   "outputs": [],
   "source": []
  }
 ],
 "metadata": {
  "kernelspec": {
   "display_name": "Python 3 (ipykernel)",
   "language": "python",
   "name": "python3"
  },
  "language_info": {
   "codemirror_mode": {
    "name": "ipython",
    "version": 3
   },
   "file_extension": ".py",
   "mimetype": "text/x-python",
   "name": "python",
   "nbconvert_exporter": "python",
   "pygments_lexer": "ipython3",
   "version": "3.12.0"
  }
 },
 "nbformat": 4,
 "nbformat_minor": 5
}
