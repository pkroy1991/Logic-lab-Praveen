{
 "cells": [
  {
   "cell_type": "code",
   "execution_count": null,
   "id": "b57afd0f-fc42-4142-8cec-d064529e771f",
   "metadata": {},
   "outputs": [],
   "source": [
    "dX = sin X dt"
   ]
  },
  {
   "cell_type": "code",
   "execution_count": null,
   "id": "43fd5fb6-61f4-47e8-b24c-24b1fc3f02b7",
   "metadata": {},
   "outputs": [],
   "source": [
    "X(0) = 1, X(10) = ?"
   ]
  },
  {
   "cell_type": "code",
   "execution_count": 3,
   "id": "713ff749-bef5-4b73-8144-7ffae43d85ae",
   "metadata": {},
   "outputs": [],
   "source": [
    "t0 = 0\n",
    "t1 = 10\n",
    "n = 5\n",
    "dt = (t1-t0)/n"
   ]
  },
  {
   "cell_type": "code",
   "execution_count": 5,
   "id": "5476898d-6840-4253-8426-b56badcfaae3",
   "metadata": {},
   "outputs": [],
   "source": [
    "x0 = 1"
   ]
  },
  {
   "cell_type": "code",
   "execution_count": 7,
   "id": "14b7d24e-29b1-4e40-b8f3-9f3a65e0d5a7",
   "metadata": {},
   "outputs": [],
   "source": [
    "import numpy as np"
   ]
  },
  {
   "cell_type": "code",
   "execution_count": 8,
   "id": "1a817d40-2276-4160-922b-e6561f4112f8",
   "metadata": {},
   "outputs": [],
   "source": [
    "x1 = x0 + np.sin(x0) * dt"
   ]
  },
  {
   "cell_type": "code",
   "execution_count": 9,
   "id": "b3236833-a96c-48c5-b1c1-d76d295c508b",
   "metadata": {},
   "outputs": [],
   "source": [
    "x2 = x1 + np.sin(x1) * dt"
   ]
  },
  {
   "cell_type": "code",
   "execution_count": 10,
   "id": "3f912ba8-ba1d-4061-9bc4-02c501ca31e3",
   "metadata": {},
   "outputs": [],
   "source": [
    "x3 = x2 + np.sin(x2) * dt"
   ]
  },
  {
   "cell_type": "code",
   "execution_count": 11,
   "id": "74e84b5e-229e-44eb-a375-2056ebfd2ed1",
   "metadata": {},
   "outputs": [],
   "source": [
    "x4 = x3 + np.sin(x3) * dt"
   ]
  },
  {
   "cell_type": "code",
   "execution_count": 12,
   "id": "296eb1d0-8fda-4c3c-ab24-39fabcffc6ce",
   "metadata": {},
   "outputs": [],
   "source": [
    "x5 = x4 + np.sin(x4) * dt"
   ]
  },
  {
   "cell_type": "code",
   "execution_count": 13,
   "id": "53d9186c-c658-426e-a9a6-357615ce87b1",
   "metadata": {},
   "outputs": [
    {
     "data": {
      "text/plain": [
       "2.779925159418414"
      ]
     },
     "execution_count": 13,
     "metadata": {},
     "output_type": "execute_result"
    }
   ],
   "source": [
    "x5"
   ]
  },
  {
   "cell_type": "code",
   "execution_count": 16,
   "id": "718a3a26-563b-44d6-b3e5-12163752caef",
   "metadata": {},
   "outputs": [],
   "source": [
    "xi=1\n",
    "for i in range(0,n):\n",
    "    xf = xi + np.sin(xi) * dt\n",
    "    xi = xf"
   ]
  },
  {
   "cell_type": "code",
   "execution_count": 17,
   "id": "af9c9e72-f8a7-456f-978c-822a48d52809",
   "metadata": {},
   "outputs": [
    {
     "data": {
      "text/plain": [
       "2.779925159418414"
      ]
     },
     "execution_count": 17,
     "metadata": {},
     "output_type": "execute_result"
    }
   ],
   "source": [
    "xf"
   ]
  },
  {
   "cell_type": "code",
   "execution_count": 55,
   "id": "1744a379-a49c-4188-94bb-bd102c5b1a84",
   "metadata": {},
   "outputs": [
    {
     "name": "stdout",
     "output_type": "stream",
     "text": [
      "10.000000000000002\n"
     ]
    },
    {
     "data": {
      "text/plain": [
       "3.1415575862660456"
      ]
     },
     "execution_count": 55,
     "metadata": {},
     "output_type": "execute_result"
    }
   ],
   "source": [
    "t0 = 0.0\n",
    "t1 = 10.0\n",
    "xi=1\n",
    "def solve_ode(n):\n",
    "    dt = (t1-t0)/n\n",
    "    xi = 1.0 ## scope of variables\n",
    "    xf = 1.0\n",
    "    t = 0.\n",
    "    for i in range(0,n):\n",
    "        xf = xi + np.sin(xi) * dt\n",
    "        xi = xf\n",
    "        t = t+ dt\n",
    "    print(t)\n",
    "    return xf\n",
    "solve_ode(34)"
   ]
  },
  {
   "cell_type": "code",
   "execution_count": 30,
   "id": "c57a7468-fb30-4c41-b35d-4c5159b0b44b",
   "metadata": {},
   "outputs": [
    {
     "data": {
      "text/plain": [
       "2.779925159418414"
      ]
     },
     "execution_count": 30,
     "metadata": {},
     "output_type": "execute_result"
    }
   ],
   "source": [
    "solve_ode(5)"
   ]
  },
  {
   "cell_type": "code",
   "execution_count": 31,
   "id": "543fd933-3631-4559-bf7b-dceeb84b0608",
   "metadata": {},
   "outputs": [
    {
     "data": {
      "text/plain": [
       "3.141591886200856"
      ]
     },
     "execution_count": 31,
     "metadata": {},
     "output_type": "execute_result"
    }
   ],
   "source": [
    "solve_ode(15)"
   ]
  },
  {
   "cell_type": "code",
   "execution_count": 34,
   "id": "9735238b-2f6e-41fd-8534-919b0de48718",
   "metadata": {},
   "outputs": [
    {
     "data": {
      "text/plain": [
       "-0.00013334808523213226"
      ]
     },
     "execution_count": 34,
     "metadata": {},
     "output_type": "execute_result"
    }
   ],
   "source": [
    "solve_ode(200)-np.pi"
   ]
  },
  {
   "cell_type": "code",
   "execution_count": 56,
   "id": "70ad039f-3fc9-4375-ad5a-afd799bb3078",
   "metadata": {},
   "outputs": [
    {
     "name": "stdout",
     "output_type": "stream",
     "text": [
      "10.0\n",
      "10.0\n",
      "10.0\n",
      "10.0\n",
      "10.0\n",
      "10.0\n",
      "10.0\n",
      "10.0\n",
      "9.999999999999998\n",
      "10.0\n",
      "9.999999999999998\n",
      "10.0\n",
      "10.000000000000002\n",
      "9.999999999999998\n",
      "9.999999999999998\n",
      "10.0\n",
      "9.999999999999998\n",
      "9.999999999999998\n",
      "10.000000000000002\n",
      "10.0\n",
      "10.0\n",
      "9.999999999999998\n",
      "10.000000000000002\n",
      "10.0\n",
      "10.000000000000004\n",
      "10.000000000000005\n",
      "9.999999999999998\n",
      "9.999999999999998\n",
      "10.000000000000005\n"
     ]
    }
   ],
   "source": [
    "error_array = [(n, solve_ode(n) - np.pi) for n in range(1,30)]"
   ]
  },
  {
   "cell_type": "code",
   "execution_count": 54,
   "id": "def5fad3-9fd6-4647-b7d6-c2a30af82a89",
   "metadata": {},
   "outputs": [
    {
     "data": {
      "text/plain": [
       "[(1, 6.273117194489172),\n",
       " (2, -2.3341621653892703),\n",
       " (3, 1.8893544328772567),\n",
       " (4, 0.12754027074691887),\n",
       " (5, -0.3616674941713791),\n",
       " (6, 0.06844746794008838),\n",
       " (7, -0.0029957048127680075),\n",
       " (8, 4.4877691181000046e-06),\n",
       " (9, 3.3525186182714606e-08),\n",
       " (10, 0.0),\n",
       " (11, -2.8681679253850234e-10),\n",
       " (12, -1.3492878814247433e-08),\n",
       " (13, -9.500368314263596e-08),\n",
       " (14, -3.2480563261216844e-07),\n",
       " (15, -7.673889372838971e-07),\n",
       " (16, -1.4562468391154937e-06),\n",
       " (17, -2.3968738882551577e-06),\n",
       " (18, -3.575486651197224e-06),\n",
       " (19, -4.967303945946355e-06),\n",
       " (20, -6.542641242113234e-06),\n",
       " (21, -8.270851613367824e-06),\n",
       " (22, -1.0122632377651541e-05),\n",
       " (23, -1.207122593926968e-05),\n",
       " (24, -1.4092923542374791e-05),\n",
       " (25, -1.6167154734070266e-05),\n",
       " (26, -1.8276346623213868e-05),\n",
       " (27, -2.0405667832346097e-05),\n",
       " (28, -2.254272620216824e-05),\n",
       " (29, -2.467726006782911e-05)]"
      ]
     },
     "execution_count": 54,
     "metadata": {},
     "output_type": "execute_result"
    }
   ],
   "source": [
    "error_array"
   ]
  },
  {
   "cell_type": "code",
   "execution_count": 38,
   "id": "19c2e6a1-54ec-4326-968a-01155fc9ba91",
   "metadata": {},
   "outputs": [
    {
     "data": {
      "text/plain": [
       "3.141592653589793"
      ]
     },
     "execution_count": 38,
     "metadata": {},
     "output_type": "execute_result"
    }
   ],
   "source": [
    "solve_ode(10)"
   ]
  },
  {
   "cell_type": "code",
   "execution_count": 41,
   "id": "5422cef2-c0ce-4ed2-8069-80762a95e1bc",
   "metadata": {},
   "outputs": [
    {
     "name": "stdout",
     "output_type": "stream",
     "text": [
      "10\n",
      "20\n",
      "30\n",
      "40\n",
      "50\n",
      "60\n",
      "70\n",
      "80\n",
      "90\n",
      "100\n",
      "110\n",
      "120\n",
      "130\n",
      "140\n",
      "150\n",
      "160\n",
      "170\n",
      "180\n",
      "190\n"
     ]
    }
   ],
   "source": [
    "for n in range(10,200,10):\n",
    "    print(n)"
   ]
  },
  {
   "cell_type": "code",
   "execution_count": null,
   "id": "6dfd60ed-3176-4c15-809a-c872532d5516",
   "metadata": {},
   "outputs": [],
   "source": []
  }
 ],
 "metadata": {
  "kernelspec": {
   "display_name": "Python 3 (ipykernel)",
   "language": "python",
   "name": "python3"
  },
  "language_info": {
   "codemirror_mode": {
    "name": "ipython",
    "version": 3
   },
   "file_extension": ".py",
   "mimetype": "text/x-python",
   "name": "python",
   "nbconvert_exporter": "python",
   "pygments_lexer": "ipython3",
   "version": "3.12.0"
  }
 },
 "nbformat": 4,
 "nbformat_minor": 5
}
