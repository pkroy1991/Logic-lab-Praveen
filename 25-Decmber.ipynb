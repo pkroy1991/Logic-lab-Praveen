{
 "cells": [
  {
   "cell_type": "code",
   "execution_count": 70,
   "id": "108fd035-1f39-4806-ac94-41de32d3de04",
   "metadata": {},
   "outputs": [],
   "source": [
    "import numpy as np\n",
    "import matplotlib.pyplot as plt\n",
    "import random"
   ]
  },
  {
   "cell_type": "code",
   "execution_count": 71,
   "id": "78b92643-c91c-4ae3-96e4-898c357f7ac6",
   "metadata": {},
   "outputs": [],
   "source": [
    "np.random.seed(1)"
   ]
  },
  {
   "cell_type": "code",
   "execution_count": 78,
   "id": "b41fd3eb-9b7f-4894-8d2e-12d4da806fd7",
   "metadata": {},
   "outputs": [],
   "source": [
    "def data_generator(n, a, b, mu, sigma):\n",
    "    data = []\n",
    "    for i in range(n):\n",
    "        x = np.random.uniform(a, b)\n",
    "        e = np.random.normal(mu, sigma)\n",
    "        y = 3 + x + x**2 + e\n",
    "        data.append([y, x])\n",
    "    return data"
   ]
  },
  {
   "cell_type": "code",
   "execution_count": 79,
   "id": "f49363b6-f2e0-4737-b114-0ddf57fc0e90",
   "metadata": {},
   "outputs": [],
   "source": [
    "training_data = data_generator(100, 0, 2, 0, np.sqrt(.2))"
   ]
  },
  {
   "cell_type": "code",
   "execution_count": 93,
   "id": "2118a3f8-75a3-490a-89ea-cbf01016b6a4",
   "metadata": {},
   "outputs": [],
   "source": [
    "test_data = data_generator(10, 0, 2, 0, np.sqrt(.2))"
   ]
  },
  {
   "cell_type": "code",
   "execution_count": 94,
   "id": "f793038d-809c-4bbe-82f8-3020ac5a7cbd",
   "metadata": {},
   "outputs": [
    {
     "name": "stdout",
     "output_type": "stream",
     "text": [
      "[[2.26941291]\n",
      " [3.06406727]]\n"
     ]
    }
   ],
   "source": [
    "A = np.array([[1, data[1]] for data in training_data])\n",
    "Y_train_vector = np.array([[data[0]] for data in training_data])\n",
    "\n",
    "X_train_vector = (np.linalg.inv(A.T@A))@(A.T@Y_train_vector)\n",
    "print(X_train_vector)"
   ]
  },
  {
   "cell_type": "code",
   "execution_count": 95,
   "id": "45258e6f-8310-421e-a734-013b3b79980d",
   "metadata": {},
   "outputs": [],
   "source": [
    "pred_matrix = np.array([[1, data[1]] for data in test_data])\n",
    "Y_test_vector = np.array([[data[0]] for data in test_data])\n",
    "Y_pred_test_vector = pred_matrix@X_train_vector"
   ]
  },
  {
   "cell_type": "code",
   "execution_count": 96,
   "id": "f5d57db1-a76b-42c4-95f3-3ae102e17428",
   "metadata": {},
   "outputs": [],
   "source": [
    "rmse_test_data = np.sqrt(np.sum((Y_pred_test_vector - Y_test_vector)**2))/10"
   ]
  },
  {
   "cell_type": "markdown",
   "id": "6ed34c71-98e1-4037-9eb7-46184802ae26",
   "metadata": {},
   "source": [
    "# Constructing another model with $1$, $X^2$ instead of $1$ and $X$."
   ]
  },
  {
   "cell_type": "code",
   "execution_count": 98,
   "id": "b5d18c00-fea9-4848-81c9-617dc9cc86ea",
   "metadata": {},
   "outputs": [
    {
     "name": "stdout",
     "output_type": "stream",
     "text": [
      "[[3.37655986]\n",
      " [1.48636984]]\n"
     ]
    }
   ],
   "source": [
    "A_1 = np.array([[1, data[1]**2] for data in training_data])\n",
    "Y_train_vector_1 = np.array([[data[0]] for data in training_data])\n",
    "\n",
    "X_train_vector_1 = (np.linalg.inv(A_1.T@A_1))@(A_1.T@Y_train_vector_1)\n",
    "print(X_train_vector_1)"
   ]
  },
  {
   "cell_type": "code",
   "execution_count": 99,
   "id": "74f44252-f834-4fb2-abce-0527e4c1dda4",
   "metadata": {},
   "outputs": [],
   "source": [
    "pred_matrix_1 = np.array([[1, data[1]**2] for data in test_data])\n",
    "Y_test_vector_1 = np.array([[data[0]] for data in test_data])\n",
    "Y_pred_test_vector_1 = pred_matrix_1@X_train_vector_1"
   ]
  },
  {
   "cell_type": "code",
   "execution_count": 100,
   "id": "c114f4d8-9500-41d4-9a73-a2cf4a1d4c4e",
   "metadata": {},
   "outputs": [],
   "source": [
    "rmse_test_data_1 = np.sqrt(np.sum((Y_pred_test_vector_1 - Y_test_vector_1)**2))/10"
   ]
  },
  {
   "cell_type": "code",
   "execution_count": 104,
   "id": "62ff9bf3-724a-4aaa-907e-c26d4e1c71c6",
   "metadata": {},
   "outputs": [],
   "source": [
    "testing_error_1 = rmse_test_data_1 - rmse_test_data"
   ]
  },
  {
   "cell_type": "code",
   "execution_count": 105,
   "id": "ea30cbc1-a0cf-467a-a7a6-deb845d8e0d3",
   "metadata": {},
   "outputs": [
    {
     "name": "stdout",
     "output_type": "stream",
     "text": [
      "-0.009737084758536713\n"
     ]
    }
   ],
   "source": [
    "print(testing_error_1)"
   ]
  },
  {
   "cell_type": "code",
   "execution_count": 106,
   "id": "05aa0492-aa93-44da-ac21-f8801ba6baac",
   "metadata": {},
   "outputs": [
    {
     "name": "stdout",
     "output_type": "stream",
     "text": [
      "0.13415559313029787 0.14389267788883459\n"
     ]
    }
   ],
   "source": [
    "print(rmse_test_data_1, rmse_test_data)"
   ]
  },
  {
   "cell_type": "code",
   "execution_count": null,
   "id": "60036f6c-86cc-4abd-89d8-89d3b97dd1c1",
   "metadata": {},
   "outputs": [],
   "source": []
  }
 ],
 "metadata": {
  "kernelspec": {
   "display_name": "Python 3 (ipykernel)",
   "language": "python",
   "name": "python3"
  },
  "language_info": {
   "codemirror_mode": {
    "name": "ipython",
    "version": 3
   },
   "file_extension": ".py",
   "mimetype": "text/x-python",
   "name": "python",
   "nbconvert_exporter": "python",
   "pygments_lexer": "ipython3",
   "version": "3.12.0"
  }
 },
 "nbformat": 4,
 "nbformat_minor": 5
}
