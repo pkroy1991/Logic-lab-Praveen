{
 "cells": [
  {
   "cell_type": "code",
   "execution_count": 97,
   "id": "27487002-a79f-4ce0-8bd7-3cbc0cad151a",
   "metadata": {},
   "outputs": [],
   "source": [
    "import numpy as np\n",
    "import matplotlib.pyplot as plt\n",
    "import random"
   ]
  },
  {
   "cell_type": "code",
   "execution_count": 98,
   "id": "3dbb2c8b-58f5-4cc5-80a5-d4097cebfe3b",
   "metadata": {},
   "outputs": [],
   "source": [
    "def exp_generator(n, a, b, sigma):\n",
    "    sum_arr = []\n",
    "    for i in range(n):\n",
    "        x = np.random.uniform(a, b)*np.random.normal(0, sigma)\n",
    "        sum_arr.append(x)\n",
    "    total_sum = sum(sum_arr)\n",
    "    expectation = total_sum/n\n",
    "    return expectation"
   ]
  },
  {
   "cell_type": "code",
   "execution_count": 86,
   "id": "d2c83ac6-f37d-4604-b0c9-def7a061d309",
   "metadata": {},
   "outputs": [],
   "source": [
    "n = 10000\n",
    "a = 0\n",
    "b = 10\n",
    "dt = .05\n",
    "sigma = dt**.5\n",
    "x = 0\n"
   ]
  },
  {
   "cell_type": "code",
   "execution_count": 87,
   "id": "2e655a77-89f2-4298-9ea7-634e9e135f75",
   "metadata": {},
   "outputs": [
    {
     "name": "stdout",
     "output_type": "stream",
     "text": [
      "0.020067561348363933\n"
     ]
    }
   ],
   "source": [
    "print(expectation)"
   ]
  },
  {
   "cell_type": "code",
   "execution_count": null,
   "id": "5ace6fd2-c157-410d-9a36-3a3113882561",
   "metadata": {},
   "outputs": [],
   "source": [
    "actual_val_exp = 0\n",
    "error_arr = []\n",
    "all_m_values = []\n",
    "m = 10000\n",
    "for j in range(100,m):\n",
    "    exp_value = exp_generator(j, a, b, sigma)\n",
    "    error_val = abs(actual_val_exp - exp_value)\n",
    "    error_arr.append(error_val)\n",
    "    all_m_values.append(j)"
   ]
  },
  {
   "cell_type": "code",
   "execution_count": null,
   "id": "7c33abe1-f51a-4200-ae28-d00b320b8dc7",
   "metadata": {},
   "outputs": [],
   "source": [
    "plt.loglog(all_m_values, error_arr, marker = 'o', linestyle = '-', color = 'b', label = 'Error = Actual- Expectated sum')"
   ]
  },
  {
   "cell_type": "code",
   "execution_count": null,
   "id": "b850b97b-a009-443f-8f2f-738c7d42be1b",
   "metadata": {},
   "outputs": [],
   "source": []
  }
 ],
 "metadata": {
  "kernelspec": {
   "display_name": "Python 3 (ipykernel)",
   "language": "python",
   "name": "python3"
  },
  "language_info": {
   "codemirror_mode": {
    "name": "ipython",
    "version": 3
   },
   "file_extension": ".py",
   "mimetype": "text/x-python",
   "name": "python",
   "nbconvert_exporter": "python",
   "pygments_lexer": "ipython3",
   "version": "3.12.0"
  }
 },
 "nbformat": 4,
 "nbformat_minor": 5
}
