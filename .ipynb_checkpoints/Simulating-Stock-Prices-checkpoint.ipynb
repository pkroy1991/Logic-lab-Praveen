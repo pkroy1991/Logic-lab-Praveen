{
 "cells": [
  {
   "cell_type": "markdown",
   "id": "2ee7f7fe-d71a-46b6-8b2b-30868447b622",
   "metadata": {},
   "source": []
  },
  {
   "cell_type": "code",
   "execution_count": null,
   "id": "a9a83277-d2ff-406f-b4b4-9ab4c2198cf6",
   "metadata": {},
   "outputs": [],
   "source": [
    "import numpy as np\n",
    "import matplotlib.pyplot as plt\n",
    "from scipy.stats import lognorm\n",
    "\n",
    "# Parameters\n",
    "S0 = 100       # Initial stock price\n",
    "mu = 10        # Drift\n",
    "sigma = 5      # Volatility\n",
    "T = 20         # Total time\n",
    "dt = 0.01      # Time step\n",
    "N_steps = int(T / dt)  # Number of time steps\n",
    "N_paths = 10000        # Number of paths\n",
    "\n",
    "# Simulate stock price paths\n",
    "S = np.zeros((N_paths, N_steps + 1))\n",
    "S[:, 0] = S0\n",
    "\n",
    "# Generate Brownian increments\n",
    "dB = np.random.normal(0, np.sqrt(dt), size=(N_paths, N_steps))\n",
    "\n",
    "# Iterate to compute stock prices\n",
    "for i in range(1, N_steps + 1):\n",
    "    S[:, i] = S[:, i-1] * np.exp((mu - 0.5 * sigma**2) * dt + sigma * dB[:, i-1])\n",
    "\n",
    "# Extract S(20)\n",
    "S_T = S[:, -1]\n",
    "\n",
    "# Analytical PDF of GBM\n",
    "x = np.linspace(0.1, np.max(S_T), 1000)\n",
    "mean_ln = np.log(S0) + (mu - 0.5 * sigma**2) * T\n",
    "std_ln = sigma * np.sqrt(T)\n",
    "pdf = lognorm.pdf(x, s=std_ln, scale=np.exp(mean_ln))\n",
    "\n",
    "# Plot histogram and PDF\n",
    "plt.figure(figsize=(10, 6))\n",
    "plt.hist(S_T, bins=100, density=True, alpha=0.6, color='blue', label='Simulated S(20)')\n",
    "plt.plot(x, pdf, 'r-', lw=2, label='Analytical PDF (GBM)')\n",
    "plt.title('Histogram of S(20) vs Analytical PDF')\n",
    "plt.xlabel('Stock Price at T=20')\n",
    "plt.ylabel('Density')\n",
    "plt.legend()\n",
    "plt.show()\n"
   ]
  },
  {
   "cell_type": "code",
   "execution_count": null,
   "id": "899715bd-2b0c-42f2-8029-adb59b50db69",
   "metadata": {},
   "outputs": [],
   "source": []
  }
 ],
 "metadata": {
  "kernelspec": {
   "display_name": "Python 3 (ipykernel)",
   "language": "python",
   "name": "python3"
  },
  "language_info": {
   "codemirror_mode": {
    "name": "ipython",
    "version": 3
   },
   "file_extension": ".py",
   "mimetype": "text/x-python",
   "name": "python",
   "nbconvert_exporter": "python",
   "pygments_lexer": "ipython3",
   "version": "3.12.0"
  }
 },
 "nbformat": 4,
 "nbformat_minor": 5
}
