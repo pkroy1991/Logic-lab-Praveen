{
 "cells": [
  {
   "cell_type": "code",
   "execution_count": 37,
   "id": "5efb5d3b-eead-4aa5-ae9d-892c9bbc50ac",
   "metadata": {},
   "outputs": [],
   "source": [
    "import numpy as np\n",
    "import matplotlib.pyplot as plt\n",
    "import scipy.stats as stats"
   ]
  },
  {
   "cell_type": "code",
   "execution_count": 47,
   "id": "bff78bc5-d440-4686-874e-7fbf9b054b39",
   "metadata": {},
   "outputs": [
    {
     "name": "stdout",
     "output_type": "stream",
     "text": [
      "2.1023720662057968 11.09998628138203\n"
     ]
    }
   ],
   "source": [
    "np.random.seed(0)\n",
    "sample = np.random.pareto(1.5, 1000)\n",
    "print(np.mean(sample), np.std(sample))"
   ]
  },
  {
   "cell_type": "code",
   "execution_count": 53,
   "id": "8eab0beb-dfc2-49cd-93ad-4c5edf0c426e",
   "metadata": {},
   "outputs": [
    {
     "data": {
      "text/plain": [
       "10.225489965395623"
      ]
     },
     "execution_count": 53,
     "metadata": {},
     "output_type": "execute_result"
    }
   ],
   "source": [
    "sample_stds = []\n",
    "sample_means = []\n",
    "for i in range(100):\n",
    "    np.random.seed(i)\n",
    "    sample = np.random.pareto(1.5, 1000)\n",
    "    sample_stds.append(np.std(sample))\n",
    "    sample_means.append(np.mean(sample))\n",
    "np.std(sample_stds)"
   ]
  },
  {
   "cell_type": "code",
   "execution_count": 54,
   "id": "d2a0fd2e-d34a-4295-bb45-e89b71a256d9",
   "metadata": {},
   "outputs": [],
   "source": [
    "def error_std_estimate(n):\n",
    "    sample_stds = []\n",
    "    for i in range(n):\n",
    "        np.random.seed(i)\n",
    "        sample = np.random.pareto(1.5, 1000)\n",
    "        sample_stds.append(np.std(sample))\n",
    "    return (np.std(sample_stds))"
   ]
  },
  {
   "cell_type": "code",
   "execution_count": 60,
   "id": "2a0db5e6-e66e-4320-a054-4b67756b833b",
   "metadata": {},
   "outputs": [],
   "source": [
    "std_error_list = [error_std_estimate(10**j) for j in range(7)]"
   ]
  },
  {
   "cell_type": "code",
   "execution_count": 61,
   "id": "4080ec81-3706-41fe-9c02-a798e155d311",
   "metadata": {},
   "outputs": [
    {
     "data": {
      "text/plain": [
       "[0.0,\n",
       " 3.20625193410268,\n",
       " 10.225489965395623,\n",
       " 23.802286238812208,\n",
       " 25.72658930430098,\n",
       " 59.963949704836864,\n",
       " 63.14673403810746]"
      ]
     },
     "execution_count": 61,
     "metadata": {},
     "output_type": "execute_result"
    }
   ],
   "source": [
    "std_error_list"
   ]
  }
 ],
 "metadata": {
  "kernelspec": {
   "display_name": "Python 3 (ipykernel)",
   "language": "python",
   "name": "python3"
  },
  "language_info": {
   "codemirror_mode": {
    "name": "ipython",
    "version": 3
   },
   "file_extension": ".py",
   "mimetype": "text/x-python",
   "name": "python",
   "nbconvert_exporter": "python",
   "pygments_lexer": "ipython3",
   "version": "3.9.6"
  }
 },
 "nbformat": 4,
 "nbformat_minor": 5
}
